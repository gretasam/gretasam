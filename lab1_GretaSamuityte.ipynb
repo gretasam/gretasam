{
  "nbformat": 4,
  "nbformat_minor": 0,
  "metadata": {
    "colab": {
      "provenance": [],
      "gpuType": "T4",
      "authorship_tag": "ABX9TyNgl2HJHyeUY2CGGuevcHy6"
    },
    "kernelspec": {
      "name": "python3",
      "display_name": "Python 3"
    },
    "language_info": {
      "name": "python"
    },
    "accelerator": "GPU"
  },
  "cells": [
    {
      "cell_type": "code",
      "source": [
        "Greta Samuitytė 2110618\n",
        "Modelis VGG16\n",
        "Klasės: balloon, dog, car\n",
        "greta.samuityte@mif.stud.vu.lt"
      ],
      "metadata": {
        "id": "DMq1trIEZ3-r"
      },
      "execution_count": null,
      "outputs": []
    },
    {
      "cell_type": "code",
      "execution_count": 9,
      "metadata": {
        "id": "YTQHosWi3Qu6"
      },
      "outputs": [],
      "source": [
        "import torch\n",
        "from torchvision import datasets\n",
        "from torchvision.transforms import transforms\n",
        "import numpy as np\n",
        "from torchvision import models"
      ]
    },
    {
      "cell_type": "code",
      "source": [
        "%pip install openimages\n",
        "import os\n",
        "from openimages.download import download_dataset\n",
        "\n",
        "data_dir = \"data\"\n",
        "number_for_samples = 334\n",
        "classes = [\"Balloon\", \"Dog\", \"Car\"]\n",
        "\n",
        "if not os.path.exists(data_dir):\n",
        "  os.makedirs(data_dir)"
      ],
      "metadata": {
        "colab": {
          "base_uri": "https://localhost:8080/"
        },
        "id": "pFZGoUET3Xc8",
        "outputId": "0e542377-0feb-425d-9473-b36a1242da45"
      },
      "execution_count": 10,
      "outputs": [
        {
          "output_type": "stream",
          "name": "stdout",
          "text": [
            "Collecting openimages\n",
            "  Downloading openimages-0.0.1-py2.py3-none-any.whl (10 kB)\n",
            "Collecting boto3 (from openimages)\n",
            "  Downloading boto3-1.34.50-py3-none-any.whl (139 kB)\n",
            "\u001b[2K     \u001b[90m━━━━━━━━━━━━━━━━━━━━━━━━━━━━━━━━━━━━━━━━\u001b[0m \u001b[32m139.3/139.3 kB\u001b[0m \u001b[31m3.7 MB/s\u001b[0m eta \u001b[36m0:00:00\u001b[0m\n",
            "\u001b[?25hCollecting cvdata (from openimages)\n",
            "  Downloading cvdata-0.0.3-py3-none-any.whl (37 kB)\n",
            "Requirement already satisfied: lxml in /usr/local/lib/python3.10/dist-packages (from openimages) (4.9.4)\n",
            "Requirement already satisfied: pandas in /usr/local/lib/python3.10/dist-packages (from openimages) (1.5.3)\n",
            "Requirement already satisfied: requests in /usr/local/lib/python3.10/dist-packages (from openimages) (2.31.0)\n",
            "Requirement already satisfied: tqdm in /usr/local/lib/python3.10/dist-packages (from openimages) (4.66.2)\n",
            "Collecting botocore<1.35.0,>=1.34.50 (from boto3->openimages)\n",
            "  Downloading botocore-1.34.50-py3-none-any.whl (12.0 MB)\n",
            "\u001b[2K     \u001b[90m━━━━━━━━━━━━━━━━━━━━━━━━━━━━━━━━━━━━━━━━\u001b[0m \u001b[32m12.0/12.0 MB\u001b[0m \u001b[31m36.0 MB/s\u001b[0m eta \u001b[36m0:00:00\u001b[0m\n",
            "\u001b[?25hCollecting jmespath<2.0.0,>=0.7.1 (from boto3->openimages)\n",
            "  Downloading jmespath-1.0.1-py3-none-any.whl (20 kB)\n",
            "Collecting s3transfer<0.11.0,>=0.10.0 (from boto3->openimages)\n",
            "  Downloading s3transfer-0.10.0-py3-none-any.whl (82 kB)\n",
            "\u001b[2K     \u001b[90m━━━━━━━━━━━━━━━━━━━━━━━━━━━━━━━━━━━━━━━━\u001b[0m \u001b[32m82.1/82.1 kB\u001b[0m \u001b[31m12.5 MB/s\u001b[0m eta \u001b[36m0:00:00\u001b[0m\n",
            "\u001b[?25hRequirement already satisfied: numpy in /usr/local/lib/python3.10/dist-packages (from cvdata->openimages) (1.25.2)\n",
            "Requirement already satisfied: opencv-python in /usr/local/lib/python3.10/dist-packages (from cvdata->openimages) (4.8.0.76)\n",
            "Requirement already satisfied: pillow in /usr/local/lib/python3.10/dist-packages (from cvdata->openimages) (9.4.0)\n",
            "Requirement already satisfied: python-dateutil>=2.8.1 in /usr/local/lib/python3.10/dist-packages (from pandas->openimages) (2.8.2)\n",
            "Requirement already satisfied: pytz>=2020.1 in /usr/local/lib/python3.10/dist-packages (from pandas->openimages) (2023.4)\n",
            "Requirement already satisfied: charset-normalizer<4,>=2 in /usr/local/lib/python3.10/dist-packages (from requests->openimages) (3.3.2)\n",
            "Requirement already satisfied: idna<4,>=2.5 in /usr/local/lib/python3.10/dist-packages (from requests->openimages) (3.6)\n",
            "Requirement already satisfied: urllib3<3,>=1.21.1 in /usr/local/lib/python3.10/dist-packages (from requests->openimages) (2.0.7)\n",
            "Requirement already satisfied: certifi>=2017.4.17 in /usr/local/lib/python3.10/dist-packages (from requests->openimages) (2024.2.2)\n",
            "Requirement already satisfied: six>=1.5 in /usr/local/lib/python3.10/dist-packages (from python-dateutil>=2.8.1->pandas->openimages) (1.16.0)\n",
            "Installing collected packages: jmespath, botocore, s3transfer, boto3, cvdata, openimages\n",
            "Successfully installed boto3-1.34.50 botocore-1.34.50 cvdata-0.0.3 jmespath-1.0.1 openimages-0.0.1 s3transfer-0.10.0\n"
          ]
        }
      ]
    },
    {
      "cell_type": "code",
      "source": [
        "download_dataset(data_dir, classes, limit=number_for_samples)"
      ],
      "metadata": {
        "colab": {
          "base_uri": "https://localhost:8080/"
        },
        "id": "nKk5VNJ93aQA",
        "outputId": "e35aa791-d9d1-4bf8-ee5f-89321c70777d"
      },
      "execution_count": 11,
      "outputs": [
        {
          "output_type": "stream",
          "name": "stderr",
          "text": [
            "100%|██████████| 334/334 [00:08<00:00, 38.17it/s]\n",
            " 98%|█████████▊| 326/334 [00:09<00:00, 43.26it/s]WARNING:urllib3.connectionpool:Connection pool is full, discarding connection: open-images-dataset.s3.amazonaws.com. Connection pool size: 10\n",
            "100%|██████████| 334/334 [00:09<00:00, 35.68it/s]\n",
            "100%|██████████| 334/334 [00:08<00:00, 38.58it/s]\n"
          ]
        },
        {
          "output_type": "execute_result",
          "data": {
            "text/plain": [
              "{'balloon': {'images_dir': 'data/balloon/images'},\n",
              " 'dog': {'images_dir': 'data/dog/images'},\n",
              " 'car': {'images_dir': 'data/car/images'}}"
            ]
          },
          "metadata": {},
          "execution_count": 11
        }
      ]
    },
    {
      "cell_type": "code",
      "source": [
        "from torchvision import transforms\n",
        "\n",
        "# Normalization parameters\n",
        "normalize = transforms.Normalize(mean=[0.485, 0.456, 0.406],\n",
        "                                 std=[0.229, 0.224, 0.225])\n",
        "\n",
        "# Enhanced transformation pipeline with additional augmentations\n",
        "all_transforms = transforms.Compose([\n",
        "    transforms.Resize(256),  # Resize the shortest side to 256 pixels\n",
        "    transforms.CenterCrop(224),  # Crop the center 224x224 pixels of the image\n",
        "    transforms.RandomHorizontalFlip(),  # Random horizontal flipping\n",
        "    transforms.RandomVerticalFlip(),  # Random vertical flipping (for variety)\n",
        "    transforms.RandomRotation(degrees=15),  # Random rotation by 15 degrees\n",
        "    transforms.ColorJitter(brightness=0.2, contrast=0.2, saturation=0.2, hue=0.1),  # Random color jittering\n",
        "    transforms.RandomAffine(degrees=0, translate=(0.1, 0.1), scale=(0.9, 1.1), shear=10),  # Random affine transformations\n",
        "    transforms.ToTensor(),  # Convert the image to a tensor\n",
        "    normalize  # Normalize the image\n",
        "])\n"
      ],
      "metadata": {
        "id": "cEZZmo4C3clF"
      },
      "execution_count": 20,
      "outputs": []
    },
    {
      "cell_type": "code",
      "source": [
        "dataset = datasets.ImageFolder(root='data', transform=all_transforms)"
      ],
      "metadata": {
        "id": "Ngpg3kYA3hav"
      },
      "execution_count": 21,
      "outputs": []
    },
    {
      "cell_type": "code",
      "source": [
        "batch_holder = torch.utils.data.DataLoader(dataset, batch_size=64, shuffle=True, num_workers=2)"
      ],
      "metadata": {
        "id": "m_K7u-F-3m-j"
      },
      "execution_count": 22,
      "outputs": []
    },
    {
      "cell_type": "code",
      "source": [
        "torch.cuda.is_available()"
      ],
      "metadata": {
        "colab": {
          "base_uri": "https://localhost:8080/"
        },
        "id": "kj1HgON13o60",
        "outputId": "c353254f-1a73-4753-8076-d91e19d2396c"
      },
      "execution_count": 23,
      "outputs": [
        {
          "output_type": "execute_result",
          "data": {
            "text/plain": [
              "True"
            ]
          },
          "metadata": {},
          "execution_count": 23
        }
      ]
    },
    {
      "cell_type": "code",
      "source": [
        "model = models.vgg16(pretrained = True)\n",
        "model.to(\"cuda\")\n",
        "model.eval()"
      ],
      "metadata": {
        "colab": {
          "base_uri": "https://localhost:8080/"
        },
        "id": "BOTCujSa3p5H",
        "outputId": "40d4fff5-7947-41c0-f82f-d82403e523d1"
      },
      "execution_count": 16,
      "outputs": [
        {
          "output_type": "stream",
          "name": "stderr",
          "text": [
            "Downloading: \"https://download.pytorch.org/models/vgg16-397923af.pth\" to /root/.cache/torch/hub/checkpoints/vgg16-397923af.pth\n",
            "100%|██████████| 528M/528M [00:05<00:00, 98.1MB/s]\n"
          ]
        },
        {
          "output_type": "execute_result",
          "data": {
            "text/plain": [
              "VGG(\n",
              "  (features): Sequential(\n",
              "    (0): Conv2d(3, 64, kernel_size=(3, 3), stride=(1, 1), padding=(1, 1))\n",
              "    (1): ReLU(inplace=True)\n",
              "    (2): Conv2d(64, 64, kernel_size=(3, 3), stride=(1, 1), padding=(1, 1))\n",
              "    (3): ReLU(inplace=True)\n",
              "    (4): MaxPool2d(kernel_size=2, stride=2, padding=0, dilation=1, ceil_mode=False)\n",
              "    (5): Conv2d(64, 128, kernel_size=(3, 3), stride=(1, 1), padding=(1, 1))\n",
              "    (6): ReLU(inplace=True)\n",
              "    (7): Conv2d(128, 128, kernel_size=(3, 3), stride=(1, 1), padding=(1, 1))\n",
              "    (8): ReLU(inplace=True)\n",
              "    (9): MaxPool2d(kernel_size=2, stride=2, padding=0, dilation=1, ceil_mode=False)\n",
              "    (10): Conv2d(128, 256, kernel_size=(3, 3), stride=(1, 1), padding=(1, 1))\n",
              "    (11): ReLU(inplace=True)\n",
              "    (12): Conv2d(256, 256, kernel_size=(3, 3), stride=(1, 1), padding=(1, 1))\n",
              "    (13): ReLU(inplace=True)\n",
              "    (14): Conv2d(256, 256, kernel_size=(3, 3), stride=(1, 1), padding=(1, 1))\n",
              "    (15): ReLU(inplace=True)\n",
              "    (16): MaxPool2d(kernel_size=2, stride=2, padding=0, dilation=1, ceil_mode=False)\n",
              "    (17): Conv2d(256, 512, kernel_size=(3, 3), stride=(1, 1), padding=(1, 1))\n",
              "    (18): ReLU(inplace=True)\n",
              "    (19): Conv2d(512, 512, kernel_size=(3, 3), stride=(1, 1), padding=(1, 1))\n",
              "    (20): ReLU(inplace=True)\n",
              "    (21): Conv2d(512, 512, kernel_size=(3, 3), stride=(1, 1), padding=(1, 1))\n",
              "    (22): ReLU(inplace=True)\n",
              "    (23): MaxPool2d(kernel_size=2, stride=2, padding=0, dilation=1, ceil_mode=False)\n",
              "    (24): Conv2d(512, 512, kernel_size=(3, 3), stride=(1, 1), padding=(1, 1))\n",
              "    (25): ReLU(inplace=True)\n",
              "    (26): Conv2d(512, 512, kernel_size=(3, 3), stride=(1, 1), padding=(1, 1))\n",
              "    (27): ReLU(inplace=True)\n",
              "    (28): Conv2d(512, 512, kernel_size=(3, 3), stride=(1, 1), padding=(1, 1))\n",
              "    (29): ReLU(inplace=True)\n",
              "    (30): MaxPool2d(kernel_size=2, stride=2, padding=0, dilation=1, ceil_mode=False)\n",
              "  )\n",
              "  (avgpool): AdaptiveAvgPool2d(output_size=(7, 7))\n",
              "  (classifier): Sequential(\n",
              "    (0): Linear(in_features=25088, out_features=4096, bias=True)\n",
              "    (1): ReLU(inplace=True)\n",
              "    (2): Dropout(p=0.5, inplace=False)\n",
              "    (3): Linear(in_features=4096, out_features=4096, bias=True)\n",
              "    (4): ReLU(inplace=True)\n",
              "    (5): Dropout(p=0.5, inplace=False)\n",
              "    (6): Linear(in_features=4096, out_features=1000, bias=True)\n",
              "  )\n",
              ")"
            ]
          },
          "metadata": {},
          "execution_count": 16
        }
      ]
    },
    {
      "cell_type": "code",
      "source": [
        "def calculate_metrics(ground_truth, predictions, threshold = 0.9):\n",
        "  predictions_thresholded = (predictions > threshold).astype(np.float64)\n",
        "  TP = np.sum(np.bitwise_and(ground_truth == 1, predictions_thresholded == 1))\n",
        "  TN = np.sum(np.bitwise_and(ground_truth == 0, predictions_thresholded == 0))\n",
        "  FP = np.sum(np.bitwise_and(ground_truth == 0, predictions_thresholded == 1))\n",
        "  FN = np.sum(np.bitwise_and(ground_truth == 1, predictions_thresholded == 0))\n",
        "  metrics = {}\n",
        "  metrics['accuracy'] = (TP + TN) / (TP + FP + TN + FN)\n",
        "  metrics['recall'] = TP / (TP + FN)\n",
        "  metrics['precision'] = TP / (TP + FP)\n",
        "  metrics['f1'] = 2 * (metrics['precision'] * metrics['recall']) / (metrics['precision'] + metrics['recall'])\n",
        "  return metrics"
      ],
      "metadata": {
        "id": "x-Z1VB5c3ra6"
      },
      "execution_count": 17,
      "outputs": []
    },
    {
      "cell_type": "code",
      "source": [
        "# tikimybių traukimas iš visų klasių masyvo ir sudėjimas į tokio tipo sarašą: [(tikimybe1, tiesa2),(tikimybė2, tiesa2), ...]\n",
        "def calculate_prob(arr2D, class_id, label_arr, class_label):\n",
        "  result = []\n",
        "  label_bool = 1.0\n",
        "  for i in range(0, len(label_arr)):\n",
        "    if class_label == label_arr[i]:\n",
        "      label_bool = 1.0\n",
        "    else:\n",
        "      label_bool = 0.0\n",
        "    result.append((arr2D[i][class_id], label_bool))\n",
        "  return result\n",
        "\n",
        "# tikimybių traukimas iš praeitoje funkcijoje sudaryto sąrašo. gauname tikimybių sąrašą: [tikimybė1, tikimybė2, ...]\n",
        "def extract_prob(arr):\n",
        "  result = []\n",
        "  for prob, truth in arr:\n",
        "    result.append(prob)\n",
        "  return result\n",
        "\n",
        "# tiesų traukimas iš pirmoje funkcijoje sudaryto sąrašo. gauname tikimybių sąrašą: [tiesa1, tiesa2, ...]\n",
        "def extract_gt(arr):\n",
        "  result = []\n",
        "  for prob, truth in arr:\n",
        "    result.append(truth)\n",
        "  return result\n",
        "\n",
        "def extractAndCalculate(gt_prob_list, Threshold_list):\n",
        "    best_metrics = {'threshold': 0, 'accuracy': 0, 'recall': 0, 'precision': 0, 'f1': 0}\n",
        "\n",
        "    for threshold in Threshold_list:\n",
        "        gt_list = extract_gt(gt_prob_list)\n",
        "        pred_list = extract_prob(gt_prob_list)\n",
        "        metrics = calculate_metrics(np.array(gt_list), np.array(pred_list), threshold)\n",
        "\n",
        "        if metrics['f1'] > best_metrics['f1']:  # Update best_metrics if current F1 is better\n",
        "            best_metrics = metrics\n",
        "            best_metrics['threshold'] = threshold\n",
        "\n",
        "    print(f\"Best Threshold: {best_metrics['threshold']}, Best F1: {best_metrics['f1']}\")\n",
        "    return best_metrics\n"
      ],
      "metadata": {
        "id": "RTlaqQlv3s03"
      },
      "execution_count": 25,
      "outputs": []
    },
    {
      "cell_type": "markdown",
      "source": [],
      "metadata": {
        "id": "5HoeYdt-Z20t"
      }
    },
    {
      "cell_type": "code",
      "source": [
        "probabilities_list = []\n",
        "labels_list = []\n",
        "\n",
        "ballon_class_id = 417\n",
        "dog_class_id = 953\n",
        "car_class_id = 340\n",
        "\n",
        "\n",
        "Threshold_list = np.linspace(0, 0.99, 21)\n",
        "b_accuracies, b_precisions, b_recalls, b_f1s = [], [], [], []\n",
        "d_accuracies, d_precisions, d_recalls, d_f1s = [], [], [], []\n",
        "c_accuracies, c_precisions, c_recalls, c_f1s = [], [], [], []\n",
        "\n",
        "\n",
        "for threshold in Threshold_list:\n",
        "#treshold = 0.90\n",
        "  ballon_truth_probablity_list = []\n",
        "  dog_truth_probablity_list = []\n",
        "  car_truth_probablity_list = []\n",
        "\n",
        "\n",
        "  for images, labels in batch_holder:\n",
        "    images, labels = images.cuda(), labels.cuda()\n",
        "    outputs = model(images)\n",
        "    probabilities = torch.sigmoid(outputs).detach().cpu().numpy()\n",
        "    labels_array = labels.cpu().numpy()\n",
        "\n",
        "    ballon_truth_probablity_list.extend(calculate_prob(probabilities, ballon_class_id, labels_array, 0))\n",
        "    dog_truth_probablity_list.extend(calculate_prob(probabilities, dog_class_id, labels_array, 1))\n",
        "    car_truth_probablity_list.extend(calculate_prob(probabilities, car_class_id, labels_array, 2))\n",
        "\n",
        "  b_res = extractAndCalculate(ballon_truth_probablity_list, Threshold_list)\n",
        "  b_accuracies.append(b_res['accuracy'])\n",
        "  b_recalls.append(b_res['recall'])\n",
        "  b_precisions.append(b_res['precision'])\n",
        "  b_f1s.append(b_res['f1'])\n",
        "\n",
        "\n",
        "  d_res = extractAndCalculate(dog_truth_probablity_list, Threshold_list)\n",
        "  d_accuracies.append(d_res['accuracy'])\n",
        "  d_recalls.append(d_res['recall'])\n",
        "  d_precisions.append(d_res['precision'])\n",
        "  d_f1s.append(d_res['f1'])\n",
        "\n",
        "  c_res = extractAndCalculate(car_truth_probablity_list, Threshold_list)\n",
        "  c_accuracies.append(c_res['accuracy'])\n",
        "  c_recalls.append(c_res['recall'])\n",
        "  c_precisions.append(c_res['precision'])\n",
        "  c_f1s.append(c_res['f1'])\n",
        "\n",
        "b_threshold_index = np.argmax(b_f1s)\n",
        "d_threshold_index = np.argmax(d_f1s)\n",
        "c_threshold_index = np.argmax(c_f1s)\n",
        "\n",
        "\n",
        "print(f\"Ballon best threshold: {Threshold_list[b_threshold_index]} accuracy: {b_accuracies[b_threshold_index]} recall: {b_recalls[b_threshold_index]} precision: {b_precisions[b_threshold_index]} f1: {b_f1s[b_threshold_index]}\")\n",
        "print(f\"Dog best threshold: {Threshold_list[d_threshold_index]} accuracy: {d_accuracies[d_threshold_index]} recall: {d_recalls[d_threshold_index]} precision: {d_precisions[d_threshold_index]} f1: {d_f1s[d_threshold_index]}\")\n",
        "print(f\"Car best threshold: {Threshold_list[c_threshold_index]} accuracy: {c_accuracies[c_threshold_index]} recall: {c_recalls[c_threshold_index]} precision: {c_precisions[c_threshold_index]} f1: {c_f1s[c_threshold_index]}\")\n",
        "\n"
      ],
      "metadata": {
        "colab": {
          "base_uri": "https://localhost:8080/"
        },
        "id": "41YT3EQT3uh8",
        "outputId": "0e04b3de-5d3d-490b-a515-ebd70575bcc2"
      },
      "execution_count": 26,
      "outputs": [
        {
          "output_type": "stream",
          "name": "stdout",
          "text": [
            "Best Threshold: 0.99, Best F1: 0.7658227848101267\n",
            "Best Threshold: 0.0, Best F1: 0.5\n",
            "Best Threshold: 0.0, Best F1: 0.5\n",
            "Best Threshold: 0.99, Best F1: 0.7725856697819314\n",
            "Best Threshold: 0.0, Best F1: 0.5\n",
            "Best Threshold: 0.0495, Best F1: 0.5020441537203597\n",
            "Best Threshold: 0.99, Best F1: 0.761904761904762\n",
            "Best Threshold: 0.0, Best F1: 0.5\n",
            "Best Threshold: 0.0495, Best F1: 0.500408830744072\n",
            "Best Threshold: 0.99, Best F1: 0.7767295597484276\n",
            "Best Threshold: 0.0, Best F1: 0.5\n",
            "Best Threshold: 0.0495, Best F1: 0.5012126111560226\n",
            "Best Threshold: 0.99, Best F1: 0.7737909516380655\n",
            "Best Threshold: 0.0, Best F1: 0.5\n",
            "Best Threshold: 0.0, Best F1: 0.5\n",
            "Best Threshold: 0.99, Best F1: 0.7605633802816901\n",
            "Best Threshold: 0.0, Best F1: 0.5\n",
            "Best Threshold: 0.099, Best F1: 0.50355871886121\n",
            "Best Threshold: 0.99, Best F1: 0.7599364069952305\n",
            "Best Threshold: 0.0, Best F1: 0.5\n",
            "Best Threshold: 0.0495, Best F1: 0.5094185094185094\n",
            "Best Threshold: 0.99, Best F1: 0.7731629392971245\n",
            "Best Threshold: 0.0, Best F1: 0.5\n",
            "Best Threshold: 0.0, Best F1: 0.5\n",
            "Best Threshold: 0.99, Best F1: 0.7875968992248061\n",
            "Best Threshold: 0.0, Best F1: 0.5\n",
            "Best Threshold: 0.0, Best F1: 0.5\n",
            "Best Threshold: 0.99, Best F1: 0.7709320695102685\n",
            "Best Threshold: 0.0, Best F1: 0.5\n",
            "Best Threshold: 0.099, Best F1: 0.5058505850585059\n",
            "Best Threshold: 0.99, Best F1: 0.759375\n",
            "Best Threshold: 0.0, Best F1: 0.5\n",
            "Best Threshold: 0.099, Best F1: 0.5119574844995571\n",
            "Best Threshold: 0.99, Best F1: 0.7740916271721959\n",
            "Best Threshold: 0.0, Best F1: 0.5\n",
            "Best Threshold: 0.0, Best F1: 0.5\n",
            "Best Threshold: 0.99, Best F1: 0.7424960505529226\n",
            "Best Threshold: 0.0, Best F1: 0.5\n",
            "Best Threshold: 0.0, Best F1: 0.5\n",
            "Best Threshold: 0.99, Best F1: 0.7519747235387046\n",
            "Best Threshold: 0.0495, Best F1: 0.5003767897513188\n",
            "Best Threshold: 0.0, Best F1: 0.5\n",
            "Best Threshold: 0.99, Best F1: 0.764525993883792\n",
            "Best Threshold: 0.0, Best F1: 0.5\n",
            "Best Threshold: 0.0, Best F1: 0.5\n",
            "Best Threshold: 0.99, Best F1: 0.7839506172839507\n",
            "Best Threshold: 0.0, Best F1: 0.5\n",
            "Best Threshold: 0.0, Best F1: 0.5\n",
            "Best Threshold: 0.99, Best F1: 0.7905511811023622\n",
            "Best Threshold: 0.0, Best F1: 0.5\n",
            "Best Threshold: 0.0495, Best F1: 0.5012205044751832\n",
            "Best Threshold: 0.99, Best F1: 0.7625\n",
            "Best Threshold: 0.0, Best F1: 0.5\n",
            "Best Threshold: 0.0495, Best F1: 0.5036915504511895\n",
            "Best Threshold: 0.99, Best F1: 0.7585139318885449\n",
            "Best Threshold: 0.0, Best F1: 0.5\n",
            "Best Threshold: 0.0495, Best F1: 0.5110204081632653\n",
            "Best Threshold: 0.99, Best F1: 0.7779527559055118\n",
            "Best Threshold: 0.0495, Best F1: 0.5022692889561271\n",
            "Best Threshold: 0.0, Best F1: 0.5\n",
            "Best Threshold: 0.99, Best F1: 0.7555555555555555\n",
            "Best Threshold: 0.0, Best F1: 0.5\n",
            "Best Threshold: 0.0495, Best F1: 0.5016233766233766\n",
            "Ballon best threshold: 0.792 accuracy: 0.8672654690618763 recall: 0.7514970059880239 precision: 0.8338870431893688 f1: 0.7905511811023622\n",
            "Dog best threshold: 0.9405 accuracy: 0.34331337325349304 recall: 0.9940119760479041 precision: 0.3360323886639676 f1: 0.5022692889561271\n",
            "Car best threshold: 0.495 accuracy: 0.4500998003992016 recall: 0.8652694610778443 precision: 0.3635220125786163 f1: 0.5119574844995571\n"
          ]
        }
      ]
    }
  ]
}