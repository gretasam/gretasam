{
  "nbformat": 4,
  "nbformat_minor": 0,
  "metadata": {
    "colab": {
      "provenance": [],
      "gpuType": "T4",
      "authorship_tag": "ABX9TyN4zVLSRTrvijRmEE5CV44n",
      "include_colab_link": true
    },
    "kernelspec": {
      "name": "python3",
      "display_name": "Python 3"
    },
    "language_info": {
      "name": "python"
    },
    "accelerator": "GPU"
  },
  "cells": [
    {
      "cell_type": "markdown",
      "metadata": {
        "id": "view-in-github",
        "colab_type": "text"
      },
      "source": [
        "<a href=\"https://colab.research.google.com/github/gretasam/gretasam/blob/main/Lab1.ipynb\" target=\"_parent\"><img src=\"https://colab.research.google.com/assets/colab-badge.svg\" alt=\"Open In Colab\"/></a>"
      ]
    },
    {
      "cell_type": "markdown",
      "source": [
        "Instaliuojame reikalingas bibliotekas"
      ],
      "metadata": {
        "id": "NHQMEbDSmloe"
      }
    },
    {
      "cell_type": "code",
      "execution_count": 1,
      "metadata": {
        "colab": {
          "base_uri": "https://localhost:8080/"
        },
        "id": "oQKlCOqGUE3j",
        "outputId": "f7239e95-8e59-4092-e65e-069120754886"
      },
      "outputs": [
        {
          "output_type": "stream",
          "name": "stdout",
          "text": [
            "Requirement already satisfied: openimages in /usr/local/lib/python3.10/dist-packages (0.0.1)\n",
            "Requirement already satisfied: boto3 in /usr/local/lib/python3.10/dist-packages (from openimages) (1.34.49)\n",
            "Requirement already satisfied: cvdata in /usr/local/lib/python3.10/dist-packages (from openimages) (0.0.3)\n",
            "Requirement already satisfied: lxml in /usr/local/lib/python3.10/dist-packages (from openimages) (4.9.4)\n",
            "Requirement already satisfied: pandas in /usr/local/lib/python3.10/dist-packages (from openimages) (1.5.3)\n",
            "Requirement already satisfied: requests in /usr/local/lib/python3.10/dist-packages (from openimages) (2.31.0)\n",
            "Requirement already satisfied: tqdm in /usr/local/lib/python3.10/dist-packages (from openimages) (4.66.2)\n",
            "Requirement already satisfied: botocore<1.35.0,>=1.34.49 in /usr/local/lib/python3.10/dist-packages (from boto3->openimages) (1.34.49)\n",
            "Requirement already satisfied: jmespath<2.0.0,>=0.7.1 in /usr/local/lib/python3.10/dist-packages (from boto3->openimages) (1.0.1)\n",
            "Requirement already satisfied: s3transfer<0.11.0,>=0.10.0 in /usr/local/lib/python3.10/dist-packages (from boto3->openimages) (0.10.0)\n",
            "Requirement already satisfied: numpy in /usr/local/lib/python3.10/dist-packages (from cvdata->openimages) (1.25.2)\n",
            "Requirement already satisfied: opencv-python in /usr/local/lib/python3.10/dist-packages (from cvdata->openimages) (4.8.0.76)\n",
            "Requirement already satisfied: pillow in /usr/local/lib/python3.10/dist-packages (from cvdata->openimages) (9.4.0)\n",
            "Requirement already satisfied: python-dateutil>=2.8.1 in /usr/local/lib/python3.10/dist-packages (from pandas->openimages) (2.8.2)\n",
            "Requirement already satisfied: pytz>=2020.1 in /usr/local/lib/python3.10/dist-packages (from pandas->openimages) (2023.4)\n",
            "Requirement already satisfied: charset-normalizer<4,>=2 in /usr/local/lib/python3.10/dist-packages (from requests->openimages) (3.3.2)\n",
            "Requirement already satisfied: idna<4,>=2.5 in /usr/local/lib/python3.10/dist-packages (from requests->openimages) (3.6)\n",
            "Requirement already satisfied: urllib3<3,>=1.21.1 in /usr/local/lib/python3.10/dist-packages (from requests->openimages) (2.0.7)\n",
            "Requirement already satisfied: certifi>=2017.4.17 in /usr/local/lib/python3.10/dist-packages (from requests->openimages) (2024.2.2)\n",
            "Requirement already satisfied: six>=1.5 in /usr/local/lib/python3.10/dist-packages (from python-dateutil>=2.8.1->pandas->openimages) (1.16.0)\n",
            "Requirement already satisfied: torch in /usr/local/lib/python3.10/dist-packages (2.2.1)\n",
            "Requirement already satisfied: torchvision in /usr/local/lib/python3.10/dist-packages (0.17.1)\n",
            "Requirement already satisfied: filelock in /usr/local/lib/python3.10/dist-packages (from torch) (3.13.1)\n",
            "Requirement already satisfied: typing-extensions>=4.8.0 in /usr/local/lib/python3.10/dist-packages (from torch) (4.9.0)\n",
            "Requirement already satisfied: sympy in /usr/local/lib/python3.10/dist-packages (from torch) (1.12)\n",
            "Requirement already satisfied: networkx in /usr/local/lib/python3.10/dist-packages (from torch) (3.2.1)\n",
            "Requirement already satisfied: jinja2 in /usr/local/lib/python3.10/dist-packages (from torch) (3.1.3)\n",
            "Requirement already satisfied: fsspec in /usr/local/lib/python3.10/dist-packages (from torch) (2023.6.0)\n",
            "Requirement already satisfied: nvidia-cuda-nvrtc-cu12==12.1.105 in /usr/local/lib/python3.10/dist-packages (from torch) (12.1.105)\n",
            "Requirement already satisfied: nvidia-cuda-runtime-cu12==12.1.105 in /usr/local/lib/python3.10/dist-packages (from torch) (12.1.105)\n",
            "Requirement already satisfied: nvidia-cuda-cupti-cu12==12.1.105 in /usr/local/lib/python3.10/dist-packages (from torch) (12.1.105)\n",
            "Requirement already satisfied: nvidia-cudnn-cu12==8.9.2.26 in /usr/local/lib/python3.10/dist-packages (from torch) (8.9.2.26)\n",
            "Requirement already satisfied: nvidia-cublas-cu12==12.1.3.1 in /usr/local/lib/python3.10/dist-packages (from torch) (12.1.3.1)\n",
            "Requirement already satisfied: nvidia-cufft-cu12==11.0.2.54 in /usr/local/lib/python3.10/dist-packages (from torch) (11.0.2.54)\n",
            "Requirement already satisfied: nvidia-curand-cu12==10.3.2.106 in /usr/local/lib/python3.10/dist-packages (from torch) (10.3.2.106)\n",
            "Requirement already satisfied: nvidia-cusolver-cu12==11.4.5.107 in /usr/local/lib/python3.10/dist-packages (from torch) (11.4.5.107)\n",
            "Requirement already satisfied: nvidia-cusparse-cu12==12.1.0.106 in /usr/local/lib/python3.10/dist-packages (from torch) (12.1.0.106)\n",
            "Requirement already satisfied: nvidia-nccl-cu12==2.19.3 in /usr/local/lib/python3.10/dist-packages (from torch) (2.19.3)\n",
            "Requirement already satisfied: nvidia-nvtx-cu12==12.1.105 in /usr/local/lib/python3.10/dist-packages (from torch) (12.1.105)\n",
            "Requirement already satisfied: triton==2.2.0 in /usr/local/lib/python3.10/dist-packages (from torch) (2.2.0)\n",
            "Requirement already satisfied: nvidia-nvjitlink-cu12 in /usr/local/lib/python3.10/dist-packages (from nvidia-cusolver-cu12==11.4.5.107->torch) (12.3.101)\n",
            "Requirement already satisfied: numpy in /usr/local/lib/python3.10/dist-packages (from torchvision) (1.25.2)\n",
            "Requirement already satisfied: pillow!=8.3.*,>=5.3.0 in /usr/local/lib/python3.10/dist-packages (from torchvision) (9.4.0)\n",
            "Requirement already satisfied: MarkupSafe>=2.0 in /usr/local/lib/python3.10/dist-packages (from jinja2->torch) (2.1.5)\n",
            "Requirement already satisfied: mpmath>=0.19 in /usr/local/lib/python3.10/dist-packages (from sympy->torch) (1.3.0)\n"
          ]
        }
      ],
      "source": [
        "!pip install openimages\n",
        "!pip install torch torchvision"
      ]
    },
    {
      "cell_type": "code",
      "source": [
        "Class1 = 'Motorcycle'\n",
        "Class2 = 'Balloon'\n",
        "Class3 = 'Dog'"
      ],
      "metadata": {
        "id": "kaRpfpPpUMuZ"
      },
      "execution_count": 2,
      "outputs": []
    },
    {
      "cell_type": "code",
      "source": [
        "data_dir = 'data'"
      ],
      "metadata": {
        "id": "US94mL1hZb06"
      },
      "execution_count": 3,
      "outputs": []
    },
    {
      "cell_type": "markdown",
      "source": [
        "Siunčiamės nuotraukas"
      ],
      "metadata": {
        "id": "uEdad78um-Qa"
      }
    },
    {
      "cell_type": "code",
      "source": [
        "from openimages.download import download_dataset\n",
        "\n",
        "data_dir = 'data'\n",
        "classes = [Class1, Class2, Class3]\n",
        "number_for_samples = 334\n",
        "\n",
        "download_dataset(data_dir, classes, limit=number_for_samples)"
      ],
      "metadata": {
        "colab": {
          "base_uri": "https://localhost:8080/"
        },
        "id": "lGMODwwlUR7F",
        "outputId": "25e645a9-9a43-42f0-829e-36628ce79fc6"
      },
      "execution_count": 130,
      "outputs": [
        {
          "output_type": "stream",
          "name": "stderr",
          "text": [
            "100%|██████████| 334/334 [00:05<00:00, 56.78it/s]\n",
            "100%|██████████| 334/334 [00:05<00:00, 59.19it/s]\n",
            " 99%|█████████▉| 330/334 [00:05<00:00, 67.85it/s]WARNING:urllib3.connectionpool:Connection pool is full, discarding connection: open-images-dataset.s3.amazonaws.com. Connection pool size: 10\n",
            "100%|██████████| 334/334 [00:05<00:00, 57.04it/s]\n"
          ]
        },
        {
          "output_type": "execute_result",
          "data": {
            "text/plain": [
              "{'motorcycle': {'images_dir': 'data/motorcycle/images'},\n",
              " 'balloon': {'images_dir': 'data/balloon/images'},\n",
              " 'dog': {'images_dir': 'data/dog/images'}}"
            ]
          },
          "metadata": {},
          "execution_count": 130
        }
      ]
    },
    {
      "cell_type": "markdown",
      "source": [
        "Duomenų rinkinį paruošia klasifikacijai ir sukuria data loader, kuris ir yra naudojamas vertinimo metu"
      ],
      "metadata": {
        "id": "8FwLKK6eoa79"
      }
    },
    {
      "cell_type": "code",
      "source": [
        "import torch\n",
        "from torchvision import transforms, datasets\n",
        "\n",
        "preprocess = transforms.Compose([\n",
        "    transforms.Resize(256),\n",
        "    transforms.CenterCrop(224),\n",
        "    transforms.ToTensor(),\n",
        "    transforms.Normalize(mean=[0.485, 0.456, 0.406], std=[0.229, 0.224, 0.225]),\n",
        "])\n",
        "\n",
        "dataset = datasets.ImageFolder(root=data_dir, transform=preprocess)\n",
        "#kiekvienai klasei sukuriamas skaitinis indeksas\n",
        "class_to_idx = dataset.class_to_idx\n",
        "\n",
        "#sukuriamas data loaderis, kuris automatizuotai tvarko duomenu paketus\n",
        "#batch size reiskia, kiek vaizdu bus viename pakete\n",
        "#workeriai reiskia, kad duomenu ikelimui naudojamas vienas procesas\n",
        "batch_holder = torch.utils.data.DataLoader(dataset, batch_size=32, shuffle=True, num_workers=0)"
      ],
      "metadata": {
        "id": "_idyBwZMUUuM"
      },
      "execution_count": 18,
      "outputs": []
    },
    {
      "cell_type": "markdown",
      "source": [
        "Patikriname GPU ir sukuriame modelį, kurį naudosime nuotraukų vertinimui"
      ],
      "metadata": {
        "id": "Vg1nhyUip3CL"
      }
    },
    {
      "cell_type": "code",
      "source": [
        "from torchvision import models\n",
        "import torch\n",
        "\n",
        "if torch.cuda.is_available():\n",
        "    device = torch.device('cuda')\n",
        "else:\n",
        "    raise SystemError(\"CUDA is not available. This script requires a GPU.\")\n",
        "\n",
        "#naudojami numatytieji svoriai, kurie buvo ismokti ant ImageNet duomenu rinkinio\n",
        "model = models.vgg16(weights=models.VGG16_Weights.DEFAULT)\n",
        "\n",
        "#VGG16 yra apmokytas su 1000 ImageNet klasiu, todel paskutine sluoksnio dalis yra pakeiciamas\n",
        "#i musu klasiu numeri\n",
        "num_classes = 3\n",
        "model.classifier[6] = torch.nn.Linear(model.classifier[6].in_features, num_classes)\n",
        "\n",
        "model.to(device)\n",
        "\n",
        "model.eval()"
      ],
      "metadata": {
        "colab": {
          "base_uri": "https://localhost:8080/"
        },
        "id": "i5iLVr5QUS18",
        "outputId": "abec7b57-3a9b-478a-9ace-1474e6151618"
      },
      "execution_count": 19,
      "outputs": [
        {
          "output_type": "execute_result",
          "data": {
            "text/plain": [
              "VGG(\n",
              "  (features): Sequential(\n",
              "    (0): Conv2d(3, 64, kernel_size=(3, 3), stride=(1, 1), padding=(1, 1))\n",
              "    (1): ReLU(inplace=True)\n",
              "    (2): Conv2d(64, 64, kernel_size=(3, 3), stride=(1, 1), padding=(1, 1))\n",
              "    (3): ReLU(inplace=True)\n",
              "    (4): MaxPool2d(kernel_size=2, stride=2, padding=0, dilation=1, ceil_mode=False)\n",
              "    (5): Conv2d(64, 128, kernel_size=(3, 3), stride=(1, 1), padding=(1, 1))\n",
              "    (6): ReLU(inplace=True)\n",
              "    (7): Conv2d(128, 128, kernel_size=(3, 3), stride=(1, 1), padding=(1, 1))\n",
              "    (8): ReLU(inplace=True)\n",
              "    (9): MaxPool2d(kernel_size=2, stride=2, padding=0, dilation=1, ceil_mode=False)\n",
              "    (10): Conv2d(128, 256, kernel_size=(3, 3), stride=(1, 1), padding=(1, 1))\n",
              "    (11): ReLU(inplace=True)\n",
              "    (12): Conv2d(256, 256, kernel_size=(3, 3), stride=(1, 1), padding=(1, 1))\n",
              "    (13): ReLU(inplace=True)\n",
              "    (14): Conv2d(256, 256, kernel_size=(3, 3), stride=(1, 1), padding=(1, 1))\n",
              "    (15): ReLU(inplace=True)\n",
              "    (16): MaxPool2d(kernel_size=2, stride=2, padding=0, dilation=1, ceil_mode=False)\n",
              "    (17): Conv2d(256, 512, kernel_size=(3, 3), stride=(1, 1), padding=(1, 1))\n",
              "    (18): ReLU(inplace=True)\n",
              "    (19): Conv2d(512, 512, kernel_size=(3, 3), stride=(1, 1), padding=(1, 1))\n",
              "    (20): ReLU(inplace=True)\n",
              "    (21): Conv2d(512, 512, kernel_size=(3, 3), stride=(1, 1), padding=(1, 1))\n",
              "    (22): ReLU(inplace=True)\n",
              "    (23): MaxPool2d(kernel_size=2, stride=2, padding=0, dilation=1, ceil_mode=False)\n",
              "    (24): Conv2d(512, 512, kernel_size=(3, 3), stride=(1, 1), padding=(1, 1))\n",
              "    (25): ReLU(inplace=True)\n",
              "    (26): Conv2d(512, 512, kernel_size=(3, 3), stride=(1, 1), padding=(1, 1))\n",
              "    (27): ReLU(inplace=True)\n",
              "    (28): Conv2d(512, 512, kernel_size=(3, 3), stride=(1, 1), padding=(1, 1))\n",
              "    (29): ReLU(inplace=True)\n",
              "    (30): MaxPool2d(kernel_size=2, stride=2, padding=0, dilation=1, ceil_mode=False)\n",
              "  )\n",
              "  (avgpool): AdaptiveAvgPool2d(output_size=(7, 7))\n",
              "  (classifier): Sequential(\n",
              "    (0): Linear(in_features=25088, out_features=4096, bias=True)\n",
              "    (1): ReLU(inplace=True)\n",
              "    (2): Dropout(p=0.5, inplace=False)\n",
              "    (3): Linear(in_features=4096, out_features=4096, bias=True)\n",
              "    (4): ReLU(inplace=True)\n",
              "    (5): Dropout(p=0.5, inplace=False)\n",
              "    (6): Linear(in_features=4096, out_features=3, bias=True)\n",
              "  )\n",
              ")"
            ]
          },
          "metadata": {},
          "execution_count": 19
        }
      ]
    },
    {
      "cell_type": "markdown",
      "source": [
        "Apskaičiuojame reikšmes\n",
        "*  Tikslumas (Accuracy): Teisingai numatytų stebėjimų proporcija iš visų stebėjimų.\n",
        "*  Atkūrimas (Recall): Tikrųjų teigiamų atvejų, kurie buvo teisingai identifikuoti, proporcija.\n",
        "*   Precizija (Precision): Teigiamų identifikacijų, kurios iš tikrųjų buvo teisingos, proporcija.\n",
        "*   F1 statistikos: Precizijos ir atpažinimo tikslumo svoris vidurkis."
      ],
      "metadata": {
        "id": "aygW5W5zq6Aj"
      }
    },
    {
      "cell_type": "code",
      "source": [
        "import numpy as np\n",
        "\n",
        "def calculate_metrics(ground_truth, predictions, threshold=0.5):\n",
        "  predictions_thresholded = (predictions >= threshold).astype(np.float64)\n",
        "  TP = np.sum((predictions_thresholded == 1) & (ground_truth == 1))\n",
        "  TN = np.sum((predictions_thresholded == 0) & (ground_truth == 0))\n",
        "  FP = np.sum((predictions_thresholded == 1) & (ground_truth == 0))\n",
        "  FN = np.sum((predictions_thresholded == 0) & (ground_truth == 1))\n",
        "\n",
        "  accuracy = (TP + TN) / (TP + FP + TN + FN) if (TP + FP + TN + FN) > 0 else 0\n",
        "  recall = TP / (TP + FN) if (TP + FN) > 0 else 0\n",
        "  precision = TP / (TP + FP) if (TP + FP) > 0 else 0\n",
        "  f1 = 2 * (precision * recall) / (precision + recall) if (precision + recall) > 0 else 0\n",
        "\n",
        "  return {\n",
        "    'accuracy': accuracy,\n",
        "    'recall': recall,\n",
        "    'precision': precision,\n",
        "    'f1': f1\n",
        "  }"
      ],
      "metadata": {
        "id": "ucnw-jhhUYNw"
      },
      "execution_count": 20,
      "outputs": []
    },
    {
      "cell_type": "markdown",
      "source": [
        "Funkcija calculate_prob skirta apskaičiuoti tam tikros klasės tikimybes ir susieti jas su tikrąja šios klasės žyme\n",
        "Išvedam sąrašą porų, kiekvienoje iš jų yra tikimybė ir dvejetainė tikroji vertė, nurodanti, ar klasės žymė atitinka laukiamą klasę."
      ],
      "metadata": {
        "id": "0Xyndrm0sVx4"
      }
    },
    {
      "cell_type": "code",
      "source": [
        "def calculate_prob(arr2D, class_id, label_arr, class_label):\n",
        "  result = []\n",
        "  label_bool = 1.0\n",
        "  for i in range(0, len(label_arr)):\n",
        "    if class_label == label_arr[i]:\n",
        "      label_bool = 1.0\n",
        "    else:\n",
        "      label_bool = 0.0\n",
        "    result.append((arr2D[i][class_id], label_bool))\n",
        "  return result"
      ],
      "metadata": {
        "id": "QH8GuCpkUZhJ"
      },
      "execution_count": 21,
      "outputs": []
    },
    {
      "cell_type": "markdown",
      "source": [
        "Funkcija extract_prob yra skirta ištraukti tikimybes iš duoto sąrašo."
      ],
      "metadata": {
        "id": "TxxRrxvqvGpd"
      }
    },
    {
      "cell_type": "code",
      "source": [
        "def extract_prob(arr):\n",
        "  result = []\n",
        "  for prob, truth in arr:\n",
        "      prob = prob.cpu().numpy() if prob.is_cuda else prob.numpy()\n",
        "      result.append(prob)\n",
        "  return result\n"
      ],
      "metadata": {
        "id": "8FKtd3EFUa2r"
      },
      "execution_count": 22,
      "outputs": []
    },
    {
      "cell_type": "markdown",
      "source": [
        "extract_gt ištraukia tikrąsias vertes iš sąrašo"
      ],
      "metadata": {
        "id": "oX17y37Ltb4o"
      }
    },
    {
      "cell_type": "code",
      "source": [
        "def extract_gt(arr):\n",
        "  result = []\n",
        "  for prob, truth in arr:\n",
        "    result.append(truth)\n",
        "  return result"
      ],
      "metadata": {
        "id": "UXBUio8cUcE7"
      },
      "execution_count": 23,
      "outputs": []
    },
    {
      "cell_type": "markdown",
      "source": [
        "Iškviečiam funkcijas ištraukti tikimybes bei tikrąsias vertes iš sąrašų\n",
        "Kviečiame metrikų skaičiavimo funkciją"
      ],
      "metadata": {
        "id": "V9HFcO3ztiH7"
      }
    },
    {
      "cell_type": "code",
      "source": [
        "def extractAndCalculate(gt_prob_list, treshold):\n",
        "  gt_list = extract_gt(gt_prob_list)\n",
        "  pred_list = extract_prob(gt_prob_list)\n",
        "  return calculate_metrics(np.array(gt_list), np.array(pred_list), treshold)\n"
      ],
      "metadata": {
        "id": "gDjBWXj6UdLG"
      },
      "execution_count": 24,
      "outputs": []
    },
    {
      "cell_type": "markdown",
      "source": [
        "Funkcija randa geriausią threshold kiekvienai klasei"
      ],
      "metadata": {
        "id": "7_1shLk3vK7y"
      }
    },
    {
      "cell_type": "code",
      "source": [
        "import numpy as np\n",
        "from sklearn.metrics import f1_score\n",
        "\n",
        "def find_best_threshold_for_class(probabilities, ground_truths):\n",
        "    thresholds = np.arange(0.0, 1, 0.05)\n",
        "    best_threshold = 0.5\n",
        "    best_f1 = 0.0\n",
        "\n",
        "    for threshold in thresholds:\n",
        "        predictions = (probabilities >= threshold).astype(int)\n",
        "        f1 = f1_score(ground_truths, predictions)\n",
        "\n",
        "        if f1 > best_f1:\n",
        "            best_f1 = f1\n",
        "            best_threshold = threshold\n",
        "\n",
        "    return best_threshold, best_f1"
      ],
      "metadata": {
        "id": "FtXaFtI4UeTY"
      },
      "execution_count": 25,
      "outputs": []
    },
    {
      "cell_type": "code",
      "source": [
        "def apply_threshold(probabilities, threshold):\n",
        "    return (probabilities >= threshold).astype(int)"
      ],
      "metadata": {
        "id": "9WCgE3VDUfvi"
      },
      "execution_count": 26,
      "outputs": []
    },
    {
      "cell_type": "code",
      "source": [
        "class1_id = class_to_idx[Class1.lower()]\n",
        "class2_id = class_to_idx[Class2.lower()]\n",
        "class3_id = class_to_idx[Class3.lower()]\n",
        "\n",
        "class1_probabilities = []\n",
        "class2_probabilities = []\n",
        "class3_probabilities = []\n",
        "\n",
        "class1_ground_truths = []\n",
        "class2_ground_truths = []\n",
        "class3_ground_truths = []"
      ],
      "metadata": {
        "id": "9Qlu6q1WUgo3"
      },
      "execution_count": 27,
      "outputs": []
    },
    {
      "cell_type": "markdown",
      "source": [
        "Kiekvienas rinkinys (batch) siunčiamas į modelį, kuris kiekvienai nuotraukai atiduoda 1000 ilgio sąrašą: [tikimybė_kad_nuotraukoje_klasė1, ... ,  tikimybė_kad_nuotraukoje_klasė1000]\n",
        "\n",
        "Skaičiuojami tikslumas (accuracy), atkūrimas (recall), precizija (precision) ir F1 statistikos kiekvienai klasei atskirai"
      ],
      "metadata": {
        "id": "WUlTKiIJvPu-"
      }
    },
    {
      "cell_type": "code",
      "source": [
        "import torch\n",
        "\n",
        "for images, labels in batch_holder:\n",
        "    images, labels = images.to(device), labels.to(device)\n",
        "    outputs = model(images)\n",
        "    probabilities = torch.sigmoid(outputs).detach()\n",
        "\n",
        "    probabilities_np = probabilities.cpu().numpy()\n",
        "    labels_np = labels.cpu().numpy()\n",
        "\n",
        "    class1_probabilities.extend(probabilities_np[:, class1_id])\n",
        "    class2_probabilities.extend(probabilities_np[:, class2_id])\n",
        "    class3_probabilities.extend(probabilities_np[:, class3_id])\n",
        "\n",
        "      # Corrected line for VGG16\n",
        "    num_classes = model.classifier[-1].out_features\n",
        "    #num_classes = model.fc.out_features\n",
        "    one_hot_labels = np.eye(num_classes)[labels_np]\n",
        "\n",
        "    class1_ground_truths.extend(one_hot_labels[:, class1_id])\n",
        "    class2_ground_truths.extend(one_hot_labels[:, class2_id])\n",
        "    class3_ground_truths.extend(one_hot_labels[:, class3_id])\n",
        "\n",
        "class1_probabilities = np.array(class1_probabilities)\n",
        "class2_probabilities = np.array(class2_probabilities)\n",
        "class3_probabilities = np.array(class3_probabilities)\n",
        "\n",
        "class1_ground_truths = np.array(class1_ground_truths)\n",
        "class2_ground_truths = np.array(class2_ground_truths)\n",
        "class3_ground_truths = np.array(class3_ground_truths)\n",
        "\n",
        "\n",
        "#print(len(class1_probabilities), len(class1_ground_truths))\n",
        "#print(len(class2_probabilities), len(class2_ground_truths))\n",
        "#print(len(class3_probabilities), len(class3_ground_truths))\n",
        "\n",
        "\n",
        "\n",
        "best_threshold_class1, best_f1_class1 = find_best_threshold_for_class(class1_probabilities, class1_ground_truths)\n",
        "best_threshold_class2, best_f1_class2 = find_best_threshold_for_class(class2_probabilities, class2_ground_truths)\n",
        "best_threshold_class3, best_f1_class3 = find_best_threshold_for_class(class3_probabilities, class3_ground_truths)\n",
        "\n",
        "print(f\"Best threshold for {Class1}: {best_threshold_class1} with F1: {best_f1_class1}\")\n",
        "print(f\"Best threshold for {Class2}: {best_threshold_class2} with F1: {best_f1_class2}\")\n",
        "print(f\"Best threshold for {Class3}: {best_threshold_class3} with F1: {best_f1_class3}\")\n",
        "\n",
        "#threshold keitimas kiekvienai klasei\n",
        "#best_threshold_class1 = 0.8\n",
        "#best_threshold_class2 = 0.8\n",
        "#best_threshold_class3 = 0.8\n",
        "\n",
        "class1_metrics = calculate_metrics(class1_ground_truths, apply_threshold(class1_probabilities, best_threshold_class1), best_threshold_class1)\n",
        "class2_metrics = calculate_metrics(class2_ground_truths, apply_threshold(class2_probabilities, best_threshold_class2), best_threshold_class2)\n",
        "class3_metrics = calculate_metrics(class3_ground_truths, apply_threshold(class3_probabilities, best_threshold_class3), best_threshold_class3)\n",
        "\n",
        "print(f\"{Class1} statistics with best threshold: {class1_metrics}\")\n",
        "print(f\"{Class2} statistics with best threshold: {class2_metrics}\")\n",
        "print(f\"{Class3} statistics with best threshold: {class3_metrics}\")"
      ],
      "metadata": {
        "colab": {
          "base_uri": "https://localhost:8080/"
        },
        "id": "-UhZnPr9Uh1L",
        "outputId": "dcf1b1fc-a22f-49b0-a24e-081bf0b3db14"
      },
      "execution_count": 28,
      "outputs": [
        {
          "output_type": "stream",
          "name": "stdout",
          "text": [
            "Best threshold for Motorcycle: 0.2 with F1: 0.500374531835206\n",
            "Best threshold for Balloon: 0.5 with F1: 0.5209205020920503\n",
            "Best threshold for Dog: 0.0 with F1: 0.5\n",
            "Motorcycle statistics with best threshold: {'accuracy': 0.3343313373253493, 'recall': 1.0, 'precision': 0.3336663336663337, 'f1': 0.500374531835206}\n",
            "Balloon statistics with best threshold: {'accuracy': 0.5429141716566867, 'recall': 0.7455089820359282, 'precision': 0.4003215434083601, 'f1': 0.5209205020920503}\n",
            "Dog statistics with best threshold: {'accuracy': 0.3333333333333333, 'recall': 1.0, 'precision': 0.3333333333333333, 'f1': 0.5}\n"
          ]
        }
      ]
    }
  ]
}